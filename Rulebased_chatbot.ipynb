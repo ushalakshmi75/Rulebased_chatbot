{
  "nbformat": 4,
  "nbformat_minor": 0,
  "metadata": {
    "colab": {
      "provenance": []
    },
    "kernelspec": {
      "name": "python3",
      "display_name": "Python 3"
    },
    "language_info": {
      "name": "python"
    }
  },
  "cells": [
    {
      "cell_type": "code",
      "execution_count": 1,
      "metadata": {
        "colab": {
          "base_uri": "https://localhost:8080/"
        },
        "id": "iTxSsfH4koEp",
        "outputId": "548b9e54-310f-4d72-b21e-90deb25da712"
      },
      "outputs": [
        {
          "output_type": "stream",
          "name": "stdout",
          "text": [
            "Requirement already satisfied: nltk in /usr/local/lib/python3.11/dist-packages (3.9.1)\n",
            "Requirement already satisfied: click in /usr/local/lib/python3.11/dist-packages (from nltk) (8.1.8)\n",
            "Requirement already satisfied: joblib in /usr/local/lib/python3.11/dist-packages (from nltk) (1.4.2)\n",
            "Requirement already satisfied: regex>=2021.8.3 in /usr/local/lib/python3.11/dist-packages (from nltk) (2024.11.6)\n",
            "Requirement already satisfied: tqdm in /usr/local/lib/python3.11/dist-packages (from nltk) (4.67.1)\n"
          ]
        }
      ],
      "source": [
        "pip install nltk"
      ]
    },
    {
      "cell_type": "code",
      "source": [
        "import nltk\n",
        "import re\n",
        "from nltk.chat.util import Chat, reflections"
      ],
      "metadata": {
        "id": "4rS-QotZkvDs"
      },
      "execution_count": 2,
      "outputs": []
    },
    {
      "cell_type": "code",
      "source": [
        "nltk.download('punkt')\n",
        "nltk.download('averaged_perceptron_tagger')"
      ],
      "metadata": {
        "colab": {
          "base_uri": "https://localhost:8080/"
        },
        "id": "rwRZzcqnkz4K",
        "outputId": "eb2e546c-faeb-4a4a-fe69-a5623b15b89c"
      },
      "execution_count": 3,
      "outputs": [
        {
          "output_type": "stream",
          "name": "stderr",
          "text": [
            "[nltk_data] Downloading package punkt to /root/nltk_data...\n",
            "[nltk_data]   Unzipping tokenizers/punkt.zip.\n",
            "[nltk_data] Downloading package averaged_perceptron_tagger to\n",
            "[nltk_data]     /root/nltk_data...\n",
            "[nltk_data]   Unzipping taggers/averaged_perceptron_tagger.zip.\n"
          ]
        },
        {
          "output_type": "execute_result",
          "data": {
            "text/plain": [
              "True"
            ]
          },
          "metadata": {},
          "execution_count": 3
        }
      ]
    },
    {
      "cell_type": "code",
      "source": [
        "pairs = [\n",
        "    # Greetings\n",
        "    [r\"hi|hello|hey\", [\"Hello! How can I help you today?\", \"Hi there! How may I assist you?\"]],\n",
        "    [r\"good (morning|afternoon|evening)\", [\"Good %1! How can I assist you today?\"]],\n",
        "    [r\"howdy\", [\"Howdy partner! What can I do for you?\"]],\n",
        "    [r\"what's up\", [\"Not much! How can I help you?\"]],\n",
        "    [r\"yo\", [\"Yo! What's going on?\"]],\n",
        "\n",
        "    # Personal Information\n",
        "    [r\"my name is (.*)\", [\"Hello %1! How can I assist you today?\"]],\n",
        "    [r\"i am (.*)\", [\"Nice to meet you, %1. How can I help you?\"]],\n",
        "    [r\"i'm (.*)\", [\"Nice to meet you, %1. How can I help you?\"]],\n",
        "    [r\"you are (.*)\", [\"Why do you think I am %1?\"]],\n",
        "    [r\"are you (.*)\", [\"Why does it matter if I am %1?\"]],\n",
        "\n",
        "    # Feelings\n",
        "    [r\"how are you\", [\"I'm just a bot, but I'm doing well. How about you?\"]],\n",
        "    [r\"i'm (good|well|okay|ok)\", [\"Glad to hear that! How can I assist you?\"]],\n",
        "    [r\"i'm (sad|unhappy|depressed)\", [\"I'm sorry to hear that. Would you like to talk about it?\"]],\n",
        "    [r\"i'm (happy|excited|elated)\", [\"That's wonderful! What's making you feel that way?\"]],\n",
        "    [r\"i feel (.*)\", [\"Why do you feel %1?\"]],\n",
        "\n",
        "    # Hobbies and Interests\n",
        "    [r\"i like (.*)\", [\"That's great! What do you like about %1?\"]],\n",
        "    [r\"i enjoy (.*)\", [\"%1 sounds fun! How often do you do it?\"]],\n",
        "    [r\"my favorite (.) is (.)\", [\"Why is %2 your favorite %1?\"]],\n",
        "    [r\"do you like (.*)\", [\"As a bot, I don't have preferences, but %1 sounds interesting!\"]],\n",
        "    [r\"what is your favorite (.*)\", [\"I don't have favorites, but I'm here to help you with %1.\"]],\n",
        "\n",
        "    # Weather\n",
        "    [r\"what's the weather like\", [\"I'm not equipped to provide real-time weather updates.\"]],\n",
        "    [r\"is it (raining|sunny|cloudy) in (.*)\", [\"I can't provide real-time weather updates for %2.\"]],\n",
        "    [r\"weather in (.*)\", [\"I'm unable to fetch weather data for %1 at the moment.\"]],\n",
        "    [r\"how's the weather\", [\"I wish I could tell you, but I don't have access to weather information.\"]],\n",
        "    [r\"do you know the weather in (.*)\", [\"I'm sorry, I can't provide weather updates for %1.\"]],\n",
        "\n",
        "    # Time and Date\n",
        "    [r\"what time is it\", [\"I'm not equipped to provide the current time.\"]],\n",
        "    [r\"what day is it\", [\"I'm not equipped to provide the current date.\"]],\n",
        "    [r\"what's the date today\", [\"I'm not equipped to provide today's date.\"]],\n",
        "    [r\"do you know the time\", [\"I'm sorry, I can't provide the current time.\"]],\n",
        "    [r\"tell me the date\", [\"I'm sorry, I can't provide the current date.\"]],\n",
        "    [r\"tq for answering to my questions\",[\"Tq for asking and i am so glad to provide answers to your questions.\"]],\n",
        "\n",
        "    # Jokes\n",
        "    [r\"tell me a joke\", [\"Why don't scientists trust atoms? Because they make up everything!\"]],\n",
        "    [r\"make me laugh\", [\"Why did the math book look sad? Because it had too many problems.\"]],\n",
        "    [r\"do you know any jokes\", [\"Why did the scarecrow win an award? Because he was outstanding in his field!\"]],\n",
        "    [r\"joke\", [\"Why don't programmers like nature? It has too many bugs.\"]],\n",
        "    [r\"funny\", [\"Why did the chicken join a band? Because it had the drumsticks!\"]],\n",
        "\n",
        "    # Help and Assistance\n",
        "    [r\"i need help\", [\"Sure! How can I assist you?\"]],\n",
        "    [r\"can you help me\", [\"Absolutely! What do you need help with?\"]],\n",
        "    [r\"i have a problem\", [\"I'm here to help. What's the problem?\"]],\n",
        "    [r\"assist me\", [\"Of course! What do you need assistance with?\"]],\n",
        "    [r\"support\", [\"I'm here to support you. How can I help?\"]],\n",
        "\n",
        "    # Farewells\n",
        "[r\"bye\", [\"Goodbye! Have a great day!\", \"See you later!\"]],\n",
        "    [r\"exit\", [\"Goodbye! Have a great day!\", \"See you later!\"]],\n",
        "    [r\"quit\", [\"Goodbye! Have a great day!\", \"See you later!\"]],\n",
        "    [r\"goodbye\", [\"Goodbye! Have a great day!\", \"See you later!\"]],\n",
        "    [r\"see you\", [\"Goodbye! Have a great day!\", \"See you later!\"]],\n",
        "\n",
        "    # Default Response\n",
        "    [r\"(.*)\", [\"I'm sorry, I didn't understand that. Could you rephrase?\", \"Could you please elaborate?\"]]\n",
        "]"
      ],
      "metadata": {
        "id": "dSvdgbc9k5hf"
      },
      "execution_count": 4,
      "outputs": []
    },
    {
      "cell_type": "code",
      "source": [
        "class RuleBasedChatbot:\n",
        "    def __init__(self, pairs):\n",
        "        self.chat = Chat(pairs, reflections)\n",
        "\n",
        "    def respond(self, user_input):\n",
        "        return self.chat.respond(user_input)"
      ],
      "metadata": {
        "id": "k-c0C0j5k8q6"
      },
      "execution_count": 5,
      "outputs": []
    },
    {
      "cell_type": "code",
      "source": [
        "def chat_with_bot():\n",
        "    print(\"Hello, I am your chatbot! Type 'exit' to end the conversation.\")\n",
        "    while True:\n",
        "        user_input = input(\"You: \")\n",
        "        if user_input.lower() == 'exit':\n",
        "            print(\"Chatbot: Goodbye! Have a nice day!\")\n",
        "            break\n",
        "        response = chatbot.respond(user_input)\n",
        "        print(f\"Chatbot: {response}\")"
      ],
      "metadata": {
        "id": "f-ePOMqDlA30"
      },
      "execution_count": 6,
      "outputs": []
    },
    {
      "cell_type": "code",
      "source": [
        "chatbot = RuleBasedChatbot(pairs)\n",
        "chat_with_bot()"
      ],
      "metadata": {
        "colab": {
          "base_uri": "https://localhost:8080/"
        },
        "id": "Grin3Or_lFQA",
        "outputId": "c65fef4e-0737-4245-f59e-a517992c6f54"
      },
      "execution_count": null,
      "outputs": [
        {
          "output_type": "stream",
          "name": "stdout",
          "text": [
            "Hello, I am your chatbot! Type 'exit' to end the conversation.\n",
            "You: hi\n",
            "Chatbot: Hi there! How may I assist you?\n",
            "You: good afternoon\n",
            "Chatbot: Good afternoon! How can I assist you today?\n",
            "You: what's up\n",
            "Chatbot: Not much! How can I help you?\n",
            "You: my name is usha\n",
            "Chatbot: Hello usha! How can I assist you today?\n",
            "You: are you\n",
            "Chatbot: Could you please elaborate?\n",
            "You: how are you\n",
            "Chatbot: I'm just a bot, but I'm doing well. How about you?\n",
            "You: i'm good\n",
            "Chatbot: Nice to meet you, good. How can I help you?\n",
            "You: i like data science\n",
            "Chatbot: That's great! What do you like about data science?\n",
            "You: what's the weather like\n",
            "Chatbot: I'm not equipped to provide real-time weather updates.\n",
            "You: do you know any jokes\n",
            "Chatbot: Why did the scarecrow win an award? Because he was outstanding in his field!\n",
            "You: funny\n",
            "Chatbot: Why did the chicken join a band? Because it had the drumsticks!\n",
            "You: assist me\n",
            "Chatbot: Of course! What do you need assistance with?\n",
            "You: see you\n",
            "Chatbot: Goodbye! Have a great day!\n",
            "You: bye\n",
            "Chatbot: See you later!\n",
            "You: tq for answering to my questions\n",
            "Chatbot: Tq for asking and i am so glad to provide answers to your questions.\n"
          ]
        }
      ]
    }
  ]
}